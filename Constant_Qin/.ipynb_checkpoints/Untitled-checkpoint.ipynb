{
 "cells": [
  {
   "cell_type": "code",
   "execution_count": 2,
   "metadata": {},
   "outputs": [],
   "source": [
    "import numpy as np\n",
    "import FR_mainCode_plus as fr\n",
    "import matplotlib.pyplot as plt\n",
    "\n",
    "#%%\n",
    "#import FR_mainCode_plus as fr\n",
    "radius=5\n",
    "resdic = fr.calc_sim(r_fix=radius)\n",
    "idx_plot = 0\n",
    "for idx in np.arange(0,len(resdic['td']),10):\n",
    "    idx_plot = idx_plot+1\n",
    "    fr.plot_movie_JGR(resdic,idx)\n",
    "    plt.savefig('/Users/cctrunz/Dropbox/RESEARCH/MOULIN-SHAPE-FIGURES-MOVIES/MGM_movies/FR_cylinder/Fr_cylinder_r%d_num%d'%(radius,idx_plot))\n",
    "    plt.close()"
   ]
  },
  {
   "cell_type": "code",
   "execution_count": null,
   "metadata": {},
   "outputs": [],
   "source": []
  }
 ],
 "metadata": {
  "kernelspec": {
   "display_name": "Python 3",
   "language": "python",
   "name": "python3"
  },
  "language_info": {
   "codemirror_mode": {
    "name": "ipython",
    "version": 3
   },
   "file_extension": ".py",
   "mimetype": "text/x-python",
   "name": "python",
   "nbconvert_exporter": "python",
   "pygments_lexer": "ipython3",
   "version": "3.8.5"
  }
 },
 "nbformat": 4,
 "nbformat_minor": 4
}
